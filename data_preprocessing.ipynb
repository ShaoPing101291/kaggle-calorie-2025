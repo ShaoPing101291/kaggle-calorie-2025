{
 "cells": [
  {
   "cell_type": "code",
   "execution_count": null,
   "id": "0276117d",
   "metadata": {},
   "outputs": [],
   "source": [
    "\n",
    "import warnings\n",
    "warnings.filterwarnings(\"ignore\")"
   ]
  },
  {
   "cell_type": "markdown",
   "id": "a758c59a",
   "metadata": {},
   "source": [
    "##  Data Preprocessing \n",
    "\n",
    "This notebook prepares the data for calorie prediction.  \n",
    "I create new features and clean the data to help our machine learning model perform better."
   ]
  },
  {
   "cell_type": "code",
   "execution_count": null,
   "id": "e55811b4",
   "metadata": {},
   "outputs": [],
   "source": [
    "import pandas as pd\n",
    "\n",
    "\n",
    "train = pd.read_csv(\"train.csv\")\n",
    "test = pd.read_csv(\"test.csv\")\n",
    "\n",
    "# BMI\n",
    "train['BMI'] = train['Weight'] / (train['Height'] / 100) ** 2\n",
    "test['BMI'] = test['Weight'] / (test['Height'] / 100) ** 2\n",
    "\n",
    "#  HRxTime \n",
    "train['HRxTime'] = train['Heart_Rate'] * train['Duration']\n",
    "test['HRxTime'] = test['Heart_Rate'] * test['Duration']\n",
    "\n",
    "#  Temp_Level int（0: low, 1: normal, 2: high）\n",
    "temp_bins = [0, 36.5, 37.5, 100]\n",
    "temp_labels = [0, 1, 2]\n",
    "train['Temp_Level'] = pd.cut(train['Body_Temp'], bins=temp_bins, labels=temp_labels).astype(int)\n",
    "test['Temp_Level'] = pd.cut(test['Body_Temp'], bins=temp_bins, labels=temp_labels).astype(int)\n",
    "\n",
    "#  Intensity int（0: low, 1: medium, 2: high）\n",
    "intensity_bins = [0, 100, 140, 200]\n",
    "intensity_labels = [0, 1, 2]\n",
    "train['Intensity'] = pd.cut(train['Heart_Rate'], bins=intensity_bins, labels=intensity_labels).astype(int)\n",
    "test['Intensity'] = pd.cut(test['Heart_Rate'], bins=intensity_bins, labels=intensity_labels).astype(int)\n",
    "\n",
    "#   Age_Group int（0: <30, 1: 30–50, 2: >50）\n",
    "age_bins = [0, 30, 50, 120]\n",
    "age_labels = [0, 1, 2]\n",
    "train['Age_Group'] = pd.cut(train['Age'], bins=age_bins, labels=age_labels).astype(int)\n",
    "test['Age_Group'] = pd.cut(test['Age'], bins=age_bins, labels=age_labels).astype(int)\n",
    "\n",
    "#   male=0, female=1\n",
    "sex_mapping = {'male': 0, 'female': 1}\n",
    "train['Sex'] = train['Sex'].map(sex_mapping)\n",
    "test['Sex'] = test['Sex'].map(sex_mapping)\n",
    "\n",
    "#  Target Encoding\n",
    "te_cols = ['Sex', 'Temp_Level', 'Intensity']\n",
    "target = 'Calories'\n",
    "for col in te_cols:\n",
    "    means = train.groupby(col, observed=False)[target].mean()\n",
    "    train[f'{col}_te'] = train[col].map(means)\n",
    "    test[f'{col}_te'] = test[col].map(means).fillna(train[target].mean())\n",
    "\n",
    "\n",
    "final_columns = [\n",
    "    'Body_Temp', 'Temp_Level', 'Duration', 'Sex', 'Weight', 'Intensity',\n",
    "    'Age', 'Age_Group', 'Heart_Rate', 'BMI', 'Height', 'HRxTime',\n",
    "    'Sex_te', 'Temp_Level_te', 'Intensity_te', 'Calories'  #  target\n",
    "]\n",
    "train = train[final_columns]\n",
    "test = test[[col for col in final_columns if col != 'Calories']]\n",
    "\n",
    "# Save\n",
    "train.to_csv(\"train_simple_te.csv\", index=False)\n",
    "test.to_csv(\"test_simple_te.csv\", index=False)\n"
   ]
  },
  {
   "cell_type": "markdown",
   "id": "be4298cf",
   "metadata": {},
   "source": [
    "# IQR \n",
    "IQR (Interquartile Range) is used to find and remove outliers.  \n",
    "It looks at the range between the 25th and 75th percentiles.\n",
    "In this project, I used 1.8×IQR to find outliers instead of 1.5×, for stronger filtering.\n"
   ]
  },
  {
   "cell_type": "code",
   "execution_count": null,
   "id": "39d2913f",
   "metadata": {},
   "outputs": [
    {
     "name": "stdout",
     "output_type": "stream",
     "text": [
      " Save as: train_with_features_cleaned_iqr.csv\n"
     ]
    }
   ],
   "source": [
    "import pandas as pd\n",
    "\n",
    "\n",
    "df = pd.read_csv('train_simple_te.csv')\n",
    "\n",
    "numeric_cols = df.select_dtypes(include=['int64', 'float64']).columns.drop('id')\n",
    "\n",
    "# Use IQR \n",
    "for col in numeric_cols:\n",
    "    Q1 = df[col].quantile(0.25)\n",
    "    Q3 = df[col].quantile(0.75)\n",
    "    IQR = Q3 - Q1\n",
    "    lower = Q1 - 1.8 * IQR\n",
    "    upper = Q3 + 1.8 * IQR\n",
    "    df = df[(df[col] >= lower) & (df[col] <= upper)]\n",
    "\n",
    "# Save\n",
    "df.to_csv('train_with_features_cleaned_iqr.csv', index=False)\n",
    "\n",
    "print(\" Save as: train_with_features_cleaned_iqr.csv\")\n"
   ]
  },
  {
   "cell_type": "code",
   "execution_count": null,
   "id": "67d70b75",
   "metadata": {},
   "outputs": [],
   "source": []
  }
 ],
 "metadata": {
  "kernelspec": {
   "display_name": "web_scraping",
   "language": "python",
   "name": "python3"
  },
  "language_info": {
   "codemirror_mode": {
    "name": "ipython",
    "version": 3
   },
   "file_extension": ".py",
   "mimetype": "text/x-python",
   "name": "python",
   "nbconvert_exporter": "python",
   "pygments_lexer": "ipython3",
   "version": "3.11.11"
  }
 },
 "nbformat": 4,
 "nbformat_minor": 5
}
